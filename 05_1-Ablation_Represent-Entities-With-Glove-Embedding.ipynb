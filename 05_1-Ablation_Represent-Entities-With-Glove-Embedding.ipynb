{
 "cells": [
  {
   "cell_type": "code",
   "execution_count": 1,
   "metadata": {},
   "outputs": [],
   "source": [
    "import pandas as pd\n",
    "import os\n",
    "import numpy as np\n",
    "\n",
    "# import glove\n",
    "# from glove import Corpus\n",
    "# from mittens import GloVe\n",
    "\n",
    "import collections\n",
    "import gc \n",
    "\n",
    "import gensim.downloader as api\n",
    "from gensim.scripts.glove2word2vec import glove2word2vec\n",
    "\n",
    "import warnings\n",
    "warnings.filterwarnings('ignore')"
   ]
  },
  {
   "cell_type": "code",
   "execution_count": 2,
   "metadata": {},
   "outputs": [
    {
     "name": "stdout",
     "output_type": "stream",
     "text": [
      "[==================================================] 100.0% 376.1/376.1MB downloaded\n"
     ]
    }
   ],
   "source": [
    "# glove_model_twitter = api.load('glove-twitter-25')\n",
    "glove_model = api.load('glove-wiki-gigaword-300')\n",
    "\n"
   ]
  },
  {
   "cell_type": "code",
   "execution_count": 3,
   "metadata": {},
   "outputs": [],
   "source": [
    "med7_ner_data = pd.read_pickle(\"data/new_ner_word_dict.pkl\")"
   ]
  },
  {
   "cell_type": "code",
   "execution_count": 4,
   "metadata": {},
   "outputs": [],
   "source": [
    "def mean(a):\n",
    "    return sum(a) / len(a)"
   ]
  },
  {
   "cell_type": "code",
   "execution_count": null,
   "metadata": {},
   "outputs": [],
   "source": []
  },
  {
   "cell_type": "code",
   "execution_count": 5,
   "metadata": {},
   "outputs": [
    {
     "name": "stdout",
     "output_type": "stream",
     "text": [
      "Glove starting..\n",
      "21580\n"
     ]
    }
   ],
   "source": [
    "data_types = [med7_ner_data]\n",
    "data_names = [\"new_ner\"]\n",
    "\n",
    "for data, names in zip(data_types, data_names):\n",
    "    new_glove_vec = {}\n",
    "    print(\"Glove starting..\")\n",
    "    for k,v in data.items():\n",
    "\n",
    "        # if k == 15219:\n",
    "        #     print(\"27586\")\n",
    "\n",
    "        patient_temp = []\n",
    "        for i in v:\n",
    "            try:\n",
    "                patient_temp.append(glove_model[i[0]])\n",
    "            except:\n",
    "                avg = []\n",
    "                num = 0\n",
    "                temp = []\n",
    "                if len(i[0].split(\" \")) > 1:\n",
    "                    for each_word in i[0].split(\" \"):\n",
    "                        try:\n",
    "                            temp = glove_model[each_word]\n",
    "                            avg.append(temp)\n",
    "                            num += 1\n",
    "                        except:\n",
    "                            pass\n",
    "                    if num == 0: continue\n",
    "                    avg = np.asarray(avg)\n",
    "                    t = np.asarray(list(map(mean, zip(*avg))))\n",
    "                    patient_temp.append(t)\n",
    "                              \n",
    "        if len(patient_temp) == 0: continue\n",
    "\n",
    "        new_glove_vec[k] = patient_temp\n",
    "\n",
    "    print(len(new_glove_vec))\n",
    "    pd.to_pickle(new_glove_vec, \"data/\"+names+\"_Glove_dict.pkl\")"
   ]
  },
  {
   "cell_type": "code",
   "execution_count": 8,
   "metadata": {},
   "outputs": [
    {
     "name": "stdout",
     "output_type": "stream",
     "text": [
      "21550 21731\n"
     ]
    }
   ],
   "source": [
    "ner_fasttext = pd.read_pickle(\"data/new_ner_fasttext_limited_dict.pkl\")\n",
    "\n",
    "diff = set(new_glove_vec.keys()).difference(set(ner_fasttext))\n",
    "for i in diff:\n",
    "    del new_glove_vec[i]\n",
    "\n",
    "\n",
    "print (len(new_glove_vec), len(ner_fasttext))\n",
    "\n",
    "\n",
    "pd.to_pickle(new_glove_vec, \"data/\"+\"new_ner\"+\"_Glove_limited_dict.pkl\")\n"
   ]
  },
  {
   "cell_type": "code",
   "execution_count": null,
   "metadata": {},
   "outputs": [],
   "source": []
  }
 ],
 "metadata": {
  "interpreter": {
   "hash": "8139aaf8d1d72dfe0278225213af02c2b338eccfbe9c350d0c8f2f8e1b7d016e"
  },
  "kernelspec": {
   "display_name": "Python 2",
   "language": "python",
   "name": "python3"
  },
  "language_info": {
   "codemirror_mode": {
    "name": "ipython",
    "version": 3
   },
   "file_extension": ".py",
   "mimetype": "text/x-python",
   "name": "python",
   "nbconvert_exporter": "python",
   "pygments_lexer": "ipython3",
   "version": "3.7.13"
  }
 },
 "nbformat": 4,
 "nbformat_minor": 2
}
