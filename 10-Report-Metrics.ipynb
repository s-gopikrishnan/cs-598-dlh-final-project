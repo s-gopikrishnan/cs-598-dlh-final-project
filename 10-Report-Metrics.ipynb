{
 "cells": [
  {
   "cell_type": "code",
   "execution_count": 30,
   "metadata": {},
   "outputs": [],
   "source": [
    "import pandas as pd\n",
    "import os\n",
    "import numpy as np"
   ]
  },
  {
   "cell_type": "code",
   "execution_count": 31,
   "metadata": {},
   "outputs": [
    {
     "name": "stdout",
     "output_type": "stream",
     "text": [
      "results/cnn/GRU-256-Glove-los_3-10-new-cnn-.p\n",
      "{'auc': 0.7134830218090025, 'auprc': 0.6554521932989272, 'acc': 0.674154701250579, 'F1': 0.5609984399375975}\n",
      "results/cnn/GRU-256-Glove-los_7-10-new-cnn-.p\n",
      "{'auc': 0.7263650185253412, 'auprc': 0.21204022389264793, 'acc': 0.9184807781380269, 'F1': 0.027624309392265196}\n",
      "results/cnn/GRU-256-Glove-mort_hosp-10-new-cnn-.p\n",
      "{'auc': 0.8776907691597665, 'auprc': 0.5817585513268726, 'acc': 0.9154701250578972, 'F1': 0.47632711621233864}\n",
      "results/cnn/GRU-256-Glove-mort_icu-10-new-cnn-.p\n",
      "{'auc': 0.8821107026082595, 'auprc': 0.5258899493727031, 'acc': 0.9423344140805928, 'F1': 0.46220302375809935}\n"
     ]
    }
   ],
   "source": [
    "def printStats(data):\n",
    "    stats = pd.read_pickle(data)\n",
    "    print(data)\n",
    "    print(stats)\n",
    "\n",
    "\n",
    "printStats(\"results/cnn/GRU-256-Glove-los_3-10-new-cnn-.p\")\n",
    "printStats(\"results/cnn/GRU-256-Glove-los_7-10-new-cnn-.p\")\n",
    "printStats(\"results/cnn/GRU-256-Glove-mort_hosp-10-new-cnn-.p\")\n",
    "printStats(\"results/cnn/GRU-256-Glove-mort_icu-10-new-cnn-.p\")"
   ]
  },
  {
   "cell_type": "code",
   "execution_count": null,
   "metadata": {},
   "outputs": [],
   "source": [
    "printStats(\"results/256-GRU-los_3-10-new.p\")\n",
    "printStats(\"results/256-GRU-los_7-10-new.p\")\n",
    "printStats(\"results/256-GRU-mort_hosp-10-new.p\")\n",
    "printStats(\"results/256-GRU-mort_icu-10-new.p\")\n",
    "printStats(\"results/256-LSTM-los_3-10-new.p\")\n",
    "printStats(\"results/256-LSTM-los_7-10-new.p\")\n",
    "printStats(\"results/256-LSTM-mort_hosp-10-new.p\")\n",
    "printStats(\"results/256-LSTM-mort_icu-10-new.p\")\n"
   ]
  },
  {
   "cell_type": "code",
   "execution_count": null,
   "metadata": {},
   "outputs": [],
   "source": [
    "printStats(\"results/cnn/GRU-256-word2vec-mort_icu-10-new-cnn-.p\")\n",
    "printStats(\"results/cnn/GRU-256-word2vec-mort_hosp-10-new-cnn-.p\")\n",
    "printStats(\"results/cnn/GRU-256-word2vec-los_7-10-new-cnn-.p\")\n",
    "printStats(\"results/cnn/GRU-256-word2vec-los_3-10-new-cnn-.p\")\n",
    "printStats(\"results/cnn/GRU-256-fasttext-mort_icu-10-new-cnn-.p\")\n",
    "printStats(\"results/cnn/GRU-256-fasttext-mort_hosp-10-new-cnn-.p\")\n",
    "printStats(\"results/cnn/GRU-256-fasttext-los_7-10-new-cnn-.p\")\n",
    "printStats(\"results/cnn/GRU-256-fasttext-los_3-10-new-cnn-.p\")\n",
    "printStats(\"results/cnn/GRU-256-concat-mort_icu-10-new-cnn-.p\")\n",
    "printStats(\"results/cnn/GRU-256-concat-mort_hosp-10-new-cnn-.p\")\n",
    "printStats(\"results/cnn/GRU-256-concat-los_7-10-new-cnn-.p\")\n",
    "printStats(\"results/cnn/GRU-256-concat-los_3-10-new-cnn-.p\")"
   ]
  }
 ],
 "metadata": {
  "interpreter": {
   "hash": "9e6498bf1da40c9c754b0c5729dd8a90892bd6d66680dcd2d9d7c662adad743e"
  },
  "kernelspec": {
   "display_name": "Python 2",
   "language": "python",
   "name": "python3"
  },
  "language_info": {
   "codemirror_mode": {
    "name": "ipython",
    "version": 3
   },
   "file_extension": ".py",
   "mimetype": "text/x-python",
   "name": "python",
   "nbconvert_exporter": "python",
   "pygments_lexer": "ipython3",
   "version": "3.7.13"
  }
 },
 "nbformat": 4,
 "nbformat_minor": 2
}
