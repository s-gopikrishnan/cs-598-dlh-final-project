{
 "cells": [
  {
   "cell_type": "code",
   "execution_count": 28,
   "metadata": {},
   "outputs": [],
   "source": [
    "import pandas as pd\n",
    "import os\n",
    "import numpy as np"
   ]
  },
  {
   "cell_type": "code",
   "execution_count": 29,
   "metadata": {},
   "outputs": [
    {
     "name": "stdout",
     "output_type": "stream",
     "text": [
      "results/glove/GRU-256-Glove-mort_hosp-1-new-avg-.p\n",
      "{'auc': 0.8809216661096954, 'auprc': 0.5854039622729282, 'acc': 0.9154701250578972, 'F1': 0.45925925925925926}\n",
      "results/glove/GRU-256-Glove-mort_icu-1-new-avg-.p\n",
      "{'auc': 0.8871141835992107, 'auprc': 0.5419047970870218, 'acc': 0.942797591477536, 'F1': 0.47780126849894283}\n"
     ]
    }
   ],
   "source": [
    "def printStats(data):\n",
    "    stats = pd.read_pickle(data)\n",
    "    print(data)\n",
    "    print(stats)\n",
    "\n",
    "\n",
    "printStats(\"results/glove/GRU-256-Glove-mort_hosp-1-new-avg-.p\")\n",
    "printStats(\"results/glove/GRU-256-Glove-mort_icu-1-new-avg-.p\")"
   ]
  },
  {
   "cell_type": "code",
   "execution_count": null,
   "metadata": {},
   "outputs": [],
   "source": [
    "printStats(\"results/256-GRU-los_3-10-new.p\")\n",
    "printStats(\"results/256-GRU-los_7-10-new.p\")\n",
    "printStats(\"results/256-GRU-mort_hosp-10-new.p\")\n",
    "printStats(\"results/256-GRU-mort_icu-10-new.p\")\n",
    "printStats(\"results/256-LSTM-los_3-10-new.p\")\n",
    "printStats(\"results/256-LSTM-los_7-10-new.p\")\n",
    "printStats(\"results/256-LSTM-mort_hosp-10-new.p\")\n",
    "printStats(\"results/256-LSTM-mort_icu-10-new.p\")\n"
   ]
  },
  {
   "cell_type": "code",
   "execution_count": null,
   "metadata": {},
   "outputs": [],
   "source": [
    "printStats(\"results/cnn/GRU-256-word2vec-mort_icu-10-new-cnn-.p\")\n",
    "printStats(\"results/cnn/GRU-256-word2vec-mort_hosp-10-new-cnn-.p\")\n",
    "printStats(\"results/cnn/GRU-256-word2vec-los_7-10-new-cnn-.p\")\n",
    "printStats(\"results/cnn/GRU-256-word2vec-los_3-10-new-cnn-.p\")\n",
    "printStats(\"results/cnn/GRU-256-fasttext-mort_icu-10-new-cnn-.p\")\n",
    "printStats(\"results/cnn/GRU-256-fasttext-mort_hosp-10-new-cnn-.p\")\n",
    "printStats(\"results/cnn/GRU-256-fasttext-los_7-10-new-cnn-.p\")\n",
    "printStats(\"results/cnn/GRU-256-fasttext-los_3-10-new-cnn-.p\")\n",
    "printStats(\"results/cnn/GRU-256-concat-mort_icu-10-new-cnn-.p\")\n",
    "printStats(\"results/cnn/GRU-256-concat-mort_hosp-10-new-cnn-.p\")\n",
    "printStats(\"results/cnn/GRU-256-concat-los_7-10-new-cnn-.p\")\n",
    "printStats(\"results/cnn/GRU-256-concat-los_3-10-new-cnn-.p\")"
   ]
  }
 ],
 "metadata": {
  "interpreter": {
   "hash": "9e6498bf1da40c9c754b0c5729dd8a90892bd6d66680dcd2d9d7c662adad743e"
  },
  "kernelspec": {
   "display_name": "Python 2",
   "language": "python",
   "name": "python3"
  },
  "language_info": {
   "codemirror_mode": {
    "name": "ipython",
    "version": 3
   },
   "file_extension": ".py",
   "mimetype": "text/x-python",
   "name": "python",
   "nbconvert_exporter": "python",
   "pygments_lexer": "ipython3",
   "version": "3.7.13"
  }
 },
 "nbformat": 4,
 "nbformat_minor": 2
}
